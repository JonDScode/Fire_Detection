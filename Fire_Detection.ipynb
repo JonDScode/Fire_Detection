{
  "nbformat": 4,
  "nbformat_minor": 0,
  "metadata": {
    "colab": {
      "provenance": []
    },
    "kernelspec": {
      "name": "python3",
      "display_name": "Python 3"
    },
    "language_info": {
      "name": "python"
    }
  },
  "cells": [
    {
      "cell_type": "code",
      "execution_count": 1,
      "metadata": {
        "id": "_BzJJAExSn5c"
      },
      "outputs": [],
      "source": [
        "%%capture\n",
        "\n",
        "# Librería para mostrar la barra de progreso en la extracción del zip\n",
        "!pip install tqdm"
      ]
    },
    {
      "cell_type": "code",
      "source": [
        "import cv2                      # OpenCV\n",
        "import numpy as np              # Numpy\n",
        "import keras                    # Keras\n",
        "from keras import layers\n",
        "import matplotlib.pyplot as plt # Matplotlib"
      ],
      "metadata": {
        "id": "rLMcBzWQXtnf"
      },
      "execution_count": 2,
      "outputs": []
    },
    {
      "cell_type": "code",
      "source": [
        "from tqdm import tqdm"
      ],
      "metadata": {
        "id": "qNqgXBsoYQJz"
      },
      "execution_count": 3,
      "outputs": []
    },
    {
      "cell_type": "code",
      "source": [
        "from google.colab import files"
      ],
      "metadata": {
        "id": "G3wefecQiIWx"
      },
      "execution_count": 11,
      "outputs": []
    },
    {
      "cell_type": "code",
      "source": [
        "%%capture\n",
        "!pip install -q kaggle"
      ],
      "metadata": {
        "id": "9-Nnq9TBiDBl"
      },
      "execution_count": 12,
      "outputs": []
    },
    {
      "cell_type": "code",
      "source": [
        "!mkdir -p ~/.kaggle\n",
        "!cp kaggle.json ~/.kaggle/"
      ],
      "metadata": {
        "id": "G8HmGIP5iiWY"
      },
      "execution_count": 18,
      "outputs": []
    },
    {
      "cell_type": "code",
      "source": [
        "!kaggle datasets download -d kutaykutlu/forest-fire"
      ],
      "metadata": {
        "colab": {
          "base_uri": "https://localhost:8080/"
        },
        "id": "Mzx2O_8Jiwwb",
        "outputId": "0b96a7df-56ab-4e48-9095-8c3df1efde94"
      },
      "execution_count": 19,
      "outputs": [
        {
          "output_type": "stream",
          "name": "stdout",
          "text": [
            "Warning: Your Kaggle API key is readable by other users on this system! To fix this, you can run 'chmod 600 /root/.kaggle/kaggle.json'\n",
            "Downloading forest-fire.zip to /content\n",
            "100% 2.46G/2.46G [00:31<00:00, 47.3MB/s]\n",
            "100% 2.46G/2.46G [00:31<00:00, 84.8MB/s]\n"
          ]
        }
      ]
    },
    {
      "cell_type": "code",
      "source": [],
      "metadata": {
        "id": "XJu-UjIzdVEF"
      },
      "execution_count": null,
      "outputs": []
    }
  ]
}