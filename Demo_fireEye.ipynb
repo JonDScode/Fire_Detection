{
  "cells": [
    {
      "cell_type": "markdown",
      "metadata": {
        "id": "view-in-github",
        "colab_type": "text"
      },
      "source": [
        "<a href=\"https://colab.research.google.com/github/JonDScode/Fire_Detection/blob/Demo/Demo_fireEye.ipynb\" target=\"_parent\"><img src=\"https://colab.research.google.com/assets/colab-badge.svg\" alt=\"Open In Colab\"/></a>"
      ]
    },
    {
      "cell_type": "code",
      "execution_count": 2,
      "metadata": {
        "colab": {
          "base_uri": "https://localhost:8080/"
        },
        "id": "Ldv0mQFq6fy_",
        "outputId": "0af2a6bb-1aff-4e85-f99a-95ae05ef1cf6"
      },
      "outputs": [
        {
          "output_type": "stream",
          "name": "stdout",
          "text": [
            "Mounted at /content/drive\n"
          ]
        }
      ],
      "source": [
        "from google.colab import drive\n",
        "drive.mount('/content/drive')"
      ]
    },
    {
      "cell_type": "code",
      "execution_count": 3,
      "metadata": {
        "id": "XvImltsT9BY0"
      },
      "outputs": [],
      "source": [
        "import os\n",
        "os.environ['CONFIG_DIR'] = '/content/drive/MyDrive'"
      ]
    },
    {
      "cell_type": "code",
      "execution_count": 4,
      "metadata": {
        "colab": {
          "base_uri": "https://localhost:8080/"
        },
        "id": "VP6UFzNL9CFR",
        "outputId": "7c3104a0-1af1-48a7-d610-541cc77b7001"
      },
      "outputs": [
        {
          "output_type": "stream",
          "name": "stdout",
          "text": [
            "/content/drive/MyDrive\n"
          ]
        }
      ],
      "source": [
        "%cd \"/content/drive/MyDrive\""
      ]
    },
    {
      "cell_type": "code",
      "execution_count": null,
      "metadata": {
        "colab": {
          "base_uri": "https://localhost:8080/",
          "height": 69
        },
        "id": "GUHcWmWP6fCx",
        "outputId": "2e840382-7c78-433f-9727-dabd1117687e"
      },
      "outputs": [
        {
          "data": {
            "application/vnd.google.colaboratory.intrinsic+json": {
              "type": "string"
            },
            "text/plain": [
              "\"# Descomprimir el zip descargado, se enruta al mismo directorio ó a otro como en este caso.\\nimport zipfile\\nwith zipfile.ZipFile('forest fire-100.0.zip', 'r') as zip:\\n  for member in tqdm(zip.infolist(), desc='Extrayendo '):\\n    try:\\n      zip.extract(member)\\n    except zipfile.error as e:\\n      pass\\n  print('El modelo ha sido descomprimido correctamente 🎉')\""
            ]
          },
          "execution_count": 4,
          "metadata": {},
          "output_type": "execute_result"
        }
      ],
      "source": [
        "'''# Descomprimir el zip descargado, se enruta al mismo directorio ó a otro como en este caso.\n",
        "import zipfile\n",
        "with zipfile.ZipFile('forest fire-100.0.zip', 'r') as zip:\n",
        "  for member in tqdm(zip.infolist(), desc='Extrayendo '):\n",
        "    try:\n",
        "      zip.extract(member)\n",
        "    except zipfile.error as e:\n",
        "      pass\n",
        "  print('El modelo ha sido descomprimido correctamente 🎉')'''"
      ]
    },
    {
      "cell_type": "code",
      "execution_count": 5,
      "metadata": {
        "id": "PfJDBDuVqPvg"
      },
      "outputs": [],
      "source": [
        "%%capture\n",
        "!pip install gradio"
      ]
    },
    {
      "cell_type": "code",
      "execution_count": 6,
      "metadata": {
        "id": "jZOykh0eqTqL"
      },
      "outputs": [],
      "source": [
        "import gradio as gr\n",
        "import torch\n",
        "import tensorflow as tf\n",
        "from PIL import Image\n",
        "from tensorflow import keras"
      ]
    },
    {
      "cell_type": "code",
      "execution_count": 9,
      "metadata": {
        "colab": {
          "base_uri": "https://localhost:8080/"
        },
        "id": "pDhYxpciqeDx",
        "outputId": "bb4d9f24-6e7c-40bf-b34b-c787b504414e"
      },
      "outputs": [
        {
          "output_type": "stream",
          "name": "stdout",
          "text": [
            "1/1 [==============================] - 12s 12s/step\n",
            "{'smoke': 0.55630153, 'fire': 0.22161312, 'nofire': 0.22208536}\n"
          ]
        }
      ],
      "source": [
        "\n",
        "import tensorflow as tf\n",
        "from PIL import Image\n",
        "\n",
        "# Ruta al archivo H5 que contiene el modelo\n",
        "ruta_modelo_h5 = '/content/drive/MyDrive/InceptionResNetV2-forest fire-100.0 /InceptionResNetV2-forest fire-100.0.h5'\n",
        "\n",
        "# Cargar el modelo desde el archivo H5\n",
        "model = tf.keras.models.load_model(ruta_modelo_h5)\n",
        "labels = [\"smoke\", \"fire\", \"nofire\"]\n",
        "\n",
        "def fire_detection(image_path):\n",
        "    image = Image.open(image_path)\n",
        "    image = image.resize((400, 200))\n",
        "    image = tf.keras.preprocessing.image.img_to_array(image)\n",
        "    image = tf.keras.applications.inception_resnet_v2.preprocess_input(image)\n",
        "\n",
        "    image = tf.expand_dims(image, axis=0)\n",
        "    predictions = model.predict(image)[0]\n",
        "    percentages = tf.nn.softmax(predictions)\n",
        "\n",
        "    result = {label: percentage.numpy() for label, percentage in zip(labels, percentages)}\n",
        "    return result\n",
        "\n",
        "image_path = \"/content/WEB10471.jpg\"  # Reemplaza con la ruta de tu imagen\n",
        "prediction = fire_detection(image_path)\n",
        "print(prediction)\n"
      ]
    },
    {
      "cell_type": "code",
      "execution_count": null,
      "metadata": {
        "colab": {
          "background_save": true,
          "base_uri": "https://localhost:8080/",
          "height": 792
        },
        "id": "-1DF7qOh8GcD",
        "outputId": "4c142677-6ad8-4994-ceda-f2270e45ad8f"
      },
      "outputs": [
        {
          "output_type": "stream",
          "name": "stderr",
          "text": [
            "/usr/local/lib/python3.10/dist-packages/gradio/inputs.py:259: UserWarning: Usage of gradio.inputs is deprecated, and will not be supported in the future, please import your component from gradio.components\n",
            "  warnings.warn(\n",
            "/usr/local/lib/python3.10/dist-packages/gradio/inputs.py:262: UserWarning: `optional` parameter is deprecated, and it has no effect\n",
            "  super().__init__(\n",
            "/usr/local/lib/python3.10/dist-packages/gradio/outputs.py:197: UserWarning: Usage of gradio.outputs is deprecated, and will not be supported in the future, please import your components from gradio.components\n",
            "  warnings.warn(\n",
            "/usr/local/lib/python3.10/dist-packages/gradio/outputs.py:200: UserWarning: The 'type' parameter has been deprecated. Use the Number component instead.\n",
            "  super().__init__(num_top_classes=num_top_classes, type=type, label=label)\n"
          ]
        },
        {
          "output_type": "stream",
          "name": "stdout",
          "text": [
            "Colab notebook detected. This cell will run indefinitely so that you can see errors and logs. To turn off, set debug=False in launch().\n",
            "Note: opening Chrome Inspector may crash demo inside Colab notebooks.\n",
            "\n",
            "To create a public link, set `share=True` in `launch()`.\n"
          ]
        },
        {
          "output_type": "display_data",
          "data": {
            "text/plain": [
              "<IPython.core.display.Javascript object>"
            ],
            "application/javascript": [
              "(async (port, path, width, height, cache, element) => {\n",
              "                        if (!google.colab.kernel.accessAllowed && !cache) {\n",
              "                            return;\n",
              "                        }\n",
              "                        element.appendChild(document.createTextNode(''));\n",
              "                        const url = await google.colab.kernel.proxyPort(port, {cache});\n",
              "\n",
              "                        const external_link = document.createElement('div');\n",
              "                        external_link.innerHTML = `\n",
              "                            <div style=\"font-family: monospace; margin-bottom: 0.5rem\">\n",
              "                                Running on <a href=${new URL(path, url).toString()} target=\"_blank\">\n",
              "                                    https://localhost:${port}${path}\n",
              "                                </a>\n",
              "                            </div>\n",
              "                        `;\n",
              "                        element.appendChild(external_link);\n",
              "\n",
              "                        const iframe = document.createElement('iframe');\n",
              "                        iframe.src = new URL(path, url).toString();\n",
              "                        iframe.height = height;\n",
              "                        iframe.allow = \"autoplay; camera; microphone; clipboard-read; clipboard-write;\"\n",
              "                        iframe.width = width;\n",
              "                        iframe.style.border = 0;\n",
              "                        element.appendChild(iframe);\n",
              "                    })(7860, \"/\", \"100%\", 500, false, window.element)"
            ]
          },
          "metadata": {}
        },
        {
          "output_type": "stream",
          "name": "stdout",
          "text": [
            "1/1 [==============================] - 3s 3s/step\n"
          ]
        }
      ],
      "source": [
        "import gradio as gr\n",
        "import tensorflow as tf\n",
        "from PIL import Image\n",
        "import numpy as np\n",
        "\n",
        "# Ruta al archivo H5 que contiene el modelo\n",
        "ruta_modelo_h5 = '/content/drive/MyDrive/InceptionResNetV2-forest fire-100.0 /InceptionResNetV2-forest fire-100.0.h5'\n",
        "\n",
        "# Cargar el modelo desde el archivo H5\n",
        "model = tf.keras.models.load_model(ruta_modelo_h5)\n",
        "labels = [\"smoke\", \"fire\", \"nofire\"]\n",
        "\n",
        "def fire_detection(image):\n",
        "    image = image.resize((400, 200))\n",
        "    image = tf.keras.preprocessing.image.img_to_array(image)\n",
        "    image = tf.keras.applications.inception_resnet_v2.preprocess_input(image)\n",
        "\n",
        "    image = tf.expand_dims(image, axis=0)\n",
        "    predictions = model.predict(image)[0]\n",
        "    percentages = tf.nn.softmax(predictions)\n",
        "\n",
        "    result = {label: percentage.numpy().tolist() for label, percentage in zip(labels, percentages)}\n",
        "    return result\n",
        "\n",
        "input_image = gr.inputs.Image(type=\"pil\", label=\"Input Image\")\n",
        "output_label = gr.outputs.Label(label=\"Label\")\n",
        "\n",
        "title = \"Fire Detection\"\n",
        "description = \"Upload an image and get the label prediction with percentages.\"\n",
        "examples = [[\"/content/PublicDataset00749.jpg\"], [\"/content/WEB10471.jpg\"], [\"/content/fire1.jpg\"], [\"/content/fire3.jpg\"], [\"/content/forest.jpg\"]]\n",
        "\n",
        "gr.Interface(fn=fire_detection, inputs=input_image, outputs=output_label, title=title, description=description, examples=examples).launch(debug=True)\n"
      ]
    },
    {
      "cell_type": "markdown",
      "source": [],
      "metadata": {
        "id": "ko_KpdjJcPgq"
      }
    },
    {
      "cell_type": "markdown",
      "source": [],
      "metadata": {
        "id": "DQKAU76ecN9U"
      }
    },
    {
      "cell_type": "code",
      "execution_count": null,
      "metadata": {
        "id": "mOAkzRIqBIDO"
      },
      "outputs": [],
      "source": []
    }
  ],
  "metadata": {
    "accelerator": "GPU",
    "colab": {
      "provenance": [],
      "authorship_tag": "ABX9TyOkFFsXAITac3Rm1YlQwpKG",
      "include_colab_link": true
    },
    "kernelspec": {
      "display_name": "Python 3",
      "name": "python3"
    },
    "language_info": {
      "name": "python"
    }
  },
  "nbformat": 4,
  "nbformat_minor": 0
}